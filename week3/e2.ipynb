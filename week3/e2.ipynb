{
 "cells": [
  {
   "cell_type": "markdown",
   "metadata": {},
   "source": [
    "# Given\n",
    "\n",
    " ```\n",
    "        word    spam     ham\n",
    " ----------- ------- -------\n",
    " million         156      98\n",
    " dollars          29     119\n",
    " adclick          51       0\n",
    " conferences       0      12\n",
    " ----------- ------- -------\n",
    "       total   95791  306438\n",
    "```"
   ]
  },
  {
   "cell_type": "markdown",
   "metadata": {},
   "source": [
    "# 1\n",
    "```\n",
    "P('million'     | spam) = 156 / 95791  = 0.0016285454792203862\n",
    "\n",
    "P('dollars'     | spam) =  29 / 95791  = 0.0003027424288294307\n",
    "\n",
    "P('adclick'     | spam) =  51 / 95791  = 0.0005324090989758955\n",
    "\n",
    "P('conferences' | spam) =   0 / 95791  = 0\n",
    "\n",
    "---\n",
    "\n",
    "P('million'     |  ham) =   98 / 306438 = 0.0003198036797002983\n",
    "\n",
    "P('dollars'     |  ham) =  119 / 306438 = 0.00038833303963607647\n",
    "\n",
    "P('adclick'     |  ham) =    0 / 306438 = 0\n",
    "\n",
    "P('conferences' |  ham) =   12 / 306438 = 3.915963424901611e-05\n",
    "```\n",
    "\n"
   ]
  },
  {
   "cell_type": "markdown",
   "metadata": {},
   "source": [
    "# 2\n",
    "\n",
    "P(not 'million') = 1 - P('million') = 1 - P('million' | spam) - P('million' | ham) = 1 - 0.0016285454792203862 - 0.0003198036797002983 = 0.9980516508410793"
   ]
  },
  {
   "cell_type": "markdown",
   "metadata": {},
   "source": [
    "# 3\n",
    "\n",
    "P(spam | 'million') = P(spam) * P('million' | spam) / P('million') = 0.5 * 0.0016285454792203862 / (0.0016285454792203862 + 0.0003198036797002983) = 0.4179295768840894"
   ]
  },
  {
   "cell_type": "markdown",
   "metadata": {},
   "source": [
    "# 4\n",
    "\n",
    "```\n",
    "EPS = 0.000001\n",
    "P(spam) = 0.5\n",
    "P(ham)  = 0.5\n",
    "\n",
    "Compute:\n",
    "\n",
    "P(spam | 'million', 'dollars', 'adclick', 'conferences')\n",
    "\n",
    "\n",
    "Using the trick, compute ratio of posterior probabilities\n",
    "\n",
    "     P(spam | 'million', 'dollars', 'adclick', 'conferences')      P(spam) P('million', 'dollars', 'adclick', 'conferences' | spam) / Z\n",
    "R = ----------------------------------------------------------- = --------------------------------------------------------------------------\n",
    "     P(ham  | 'million', 'dollars', 'adclick', 'conferences')      P(ham)  P('million', 'dollars', 'adclick', 'conferences' | ham ) / Z\n",
    "\n",
    "\n",
    "    P(spam) P('million', 'dollars', 'adclick', 'conferences' | spam)\n",
    "= ----------------------------------------------------------------------\n",
    "    P(ham)  P('million', 'dollars', 'adclick', 'conferences' | ham )\n",
    "\n",
    "\n",
    "    P('million', 'dollars', 'adclick', 'conferences' | spam)\n",
    "= -------------------------------------------------------------\n",
    "    P('million', 'dollars', 'adclick', 'conferences' | ham )\n",
    "\n",
    "\n",
    "    P('million' | spam) P('dollars' | spam) P('adclick' | spam) P('conferences' | spam)\n",
    "= ---------------------------------------------------------------------------------------\n",
    "    P('million' | ham) P('dollars' | ham) P('adclick' | ham) P('conferences' | ham)\n",
    "\n",
    "\n",
    "   0.0016285454792203862 * 0.0003027424288294307 * 0.0005324090989758955 * EPS\n",
    "= ------------------------------------------------------------------------------ = 53.974947139708306\n",
    "   0.0003198036797002983 * 0.00038833303963607647 * EPS * 3.915963424901611e-05\n",
    "\n",
    "\n",
    "Now\n",
    "\n",
    "P(spam | 'million', 'dollars', 'adclick', 'conferences') = R / (1 + R) = 0.9818098961066994\n",
    "```"
   ]
  },
  {
   "cell_type": "code",
   "execution_count": 2,
   "metadata": {},
   "outputs": [
    {
     "data": {
      "text/plain": [
       "0.9818098961066994"
      ]
     },
     "execution_count": 2,
     "metadata": {},
     "output_type": "execute_result"
    }
   ],
   "source": [
    "EPS = 0.000001\n",
    "n = 0.0016285454792203862 * 0.0003027424288294307 * 0.0005324090989758955 * EPS\n",
    "d = 0.0003198036797002983 * 0.00038833303963607647 * EPS * 3.915963424901611e-05\n",
    "R = n / d\n",
    "R / (1 + R)"
   ]
  },
  {
   "cell_type": "code",
   "execution_count": null,
   "metadata": {},
   "outputs": [],
   "source": []
  }
 ],
 "metadata": {
  "kernelspec": {
   "display_name": "Python 3.7.6 ('base')",
   "language": "python",
   "name": "python3"
  },
  "language_info": {
   "codemirror_mode": {
    "name": "ipython",
    "version": 3
   },
   "file_extension": ".py",
   "mimetype": "text/x-python",
   "name": "python",
   "nbconvert_exporter": "python",
   "pygments_lexer": "ipython3",
   "version": "3.7.6"
  },
  "orig_nbformat": 4,
  "vscode": {
   "interpreter": {
    "hash": "164b06bf944be45e3db0f6ed99cc0ae3381d901526b7df558e840fbb01fb35b7"
   }
  }
 },
 "nbformat": 4,
 "nbformat_minor": 2
}
